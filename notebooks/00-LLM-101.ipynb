{
 "cells": [
  {
   "cell_type": "markdown",
   "id": "84b7df5c-f989-4d2c-9bfb-1c381c1d045a",
   "metadata": {},
   "source": [
    "# LLM 101\n",
    "\n",
    "## Abstract (generated from Perplexity)\n",
    "\n",
    "Large Language Models (LLMs) are deep learning models designed to process and understand vast amounts of natural language data. They are built on neural network architectures, particularly the transformer architecture, which allows them to capture complex language patterns and relationships between words or phrases in large-scale text datasets. \n",
    "\n",
    "\n"
   ]
  },
  {
   "cell_type": "markdown",
   "id": "18f1f7c1-19a0-407d-adcc-2b680608ec05",
   "metadata": {},
   "source": [
    "Key blogs on LLMs:\n",
    "- To get basic understanding of GPT or LLM in general : https://jalammar.github.io/illustrated-gpt2/\n",
    "- Google colab for training LLMs with BnB: https://colab.research.google.com/drive/1VoYNfYDKcKRQRor98Zbf2-9VQTtGJ24k?usp=sharing#scrollTo=jq0nX33BmfaC "
   ]
  },
  {
   "cell_type": "code",
   "execution_count": null,
   "id": "7b350e11-0a67-4cb0-92fd-123e3e65a6a3",
   "metadata": {},
   "outputs": [],
   "source": []
  }
 ],
 "metadata": {
  "kernelspec": {
   "display_name": "Python 3 (ipykernel)",
   "language": "python",
   "name": "python3"
  },
  "language_info": {
   "codemirror_mode": {
    "name": "ipython",
    "version": 3
   },
   "file_extension": ".py",
   "mimetype": "text/x-python",
   "name": "python",
   "nbconvert_exporter": "python",
   "pygments_lexer": "ipython3",
   "version": "3.9.17"
  }
 },
 "nbformat": 4,
 "nbformat_minor": 5
}
